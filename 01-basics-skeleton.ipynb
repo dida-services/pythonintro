{
 "cells": [
  {
   "cell_type": "markdown",
   "metadata": {},
   "source": [
    "# Simple values and controls\n",
    "\n",
    "In this section you will follows a short walk through the basic syntax of Python."
   ]
  },
  {
   "cell_type": "markdown",
   "metadata": {},
   "source": [
    "## Literals and operators\n",
    "\n",
    "The syntax for numbers and strings in Python are similar to other programming languages."
   ]
  },
  {
   "cell_type": "code",
   "execution_count": 36,
   "metadata": {},
   "outputs": [
    {
     "data": {
      "text/plain": [
       "86400"
      ]
     },
     "execution_count": 36,
     "metadata": {},
     "output_type": "execute_result"
    }
   ],
   "source": [
    "60 * 60 * 24"
   ]
  },
  {
   "cell_type": "markdown",
   "metadata": {},
   "source": [
    "The differences with other languages and important features to remember are:\n",
    "\n",
    "- strings can be either single- or double-quoted,\n",
    "- operators are overloaded (`+` does both addition of numbers and concatenation of strings),\n",
    "- floats and integers are compatible (they are converted as needed),\n",
    "- you can use `*` to repeat strings."
   ]
  },
  {
   "cell_type": "code",
   "execution_count": 37,
   "metadata": {},
   "outputs": [
    {
     "data": {
      "text/plain": [
       "'this is fine'"
      ]
     },
     "execution_count": 37,
     "metadata": {},
     "output_type": "execute_result"
    }
   ],
   "source": [
    "'this is' + \" fine\""
   ]
  },
  {
   "cell_type": "code",
   "execution_count": 38,
   "metadata": {},
   "outputs": [
    {
     "data": {
      "text/plain": [
       "True"
      ]
     },
     "execution_count": 38,
     "metadata": {},
     "output_type": "execute_result"
    }
   ],
   "source": [
    "3 * 2 == 3. * 2"
   ]
  },
  {
   "cell_type": "code",
   "execution_count": 39,
   "metadata": {},
   "outputs": [
    {
     "data": {
      "text/plain": [
       "'yes yes yes yes!'"
      ]
     },
     "execution_count": 39,
     "metadata": {},
     "output_type": "execute_result"
    }
   ],
   "source": [
    "'yes ' * 3 + 'yes!'"
   ]
  },
  {
   "cell_type": "markdown",
   "metadata": {},
   "source": [
    "## Type conversion\n",
    "\n",
    "You can convert values from a type to another using the name of the type you are converting to."
   ]
  },
  {
   "cell_type": "code",
   "execution_count": 40,
   "metadata": {
    "cca": {
     "exercise": false
    }
   },
   "outputs": [
    {
     "data": {
      "text/plain": [
       "'100'"
      ]
     },
     "execution_count": 40,
     "metadata": {},
     "output_type": "execute_result"
    }
   ],
   "source": [
    "str(100)"
   ]
  },
  {
   "cell_type": "markdown",
   "metadata": {},
   "source": [
    "This can be useful when printing some output "
   ]
  },
  {
   "cell_type": "code",
   "execution_count": 41,
   "metadata": {
    "cca": {
     "exercise": false
    }
   },
   "outputs": [
    {
     "ename": "TypeError",
     "evalue": "can only concatenate str (not \"int\") to str",
     "output_type": "error",
     "traceback": [
      "\u001b[0;31m---------------------------------------------------------------------------\u001b[0m",
      "\u001b[0;31mTypeError\u001b[0m                                 Traceback (most recent call last)",
      "\u001b[0;32m<ipython-input-41-7826701098e7>\u001b[0m in \u001b[0;36m<module>\u001b[0;34m\u001b[0m\n\u001b[0;32m----> 1\u001b[0;31m \u001b[0;34m'The result is: '\u001b[0m \u001b[0;34m+\u001b[0m \u001b[0;36m10\u001b[0m\u001b[0;34m\u001b[0m\u001b[0m\n\u001b[0m",
      "\u001b[0;31mTypeError\u001b[0m: can only concatenate str (not \"int\") to str"
     ]
    }
   ],
   "source": [
    "'The result is: ' + 10"
   ]
  },
  {
   "cell_type": "code",
   "execution_count": null,
   "metadata": {
    "cca": {
     "exercise": false
    }
   },
   "outputs": [],
   "source": [
    "'The result is: ' + str(10)"
   ]
  },
  {
   "cell_type": "markdown",
   "metadata": {},
   "source": [
    "This also works for some of the more advanced types. In the following example we convert a tuple into a list. Don't worry if these types do not immediately mean something to you. We will have a look at them in detail when we learn about data structures."
   ]
  },
  {
   "cell_type": "code",
   "execution_count": null,
   "metadata": {
    "cca": {
     "exercise": false
    },
    "scrolled": true
   },
   "outputs": [],
   "source": [
    "list((12, 3, 'Thomas'))"
   ]
  },
  {
   "cell_type": "markdown",
   "metadata": {},
   "source": [
    "## Indexing\n",
    "\n",
    "In order to access a specific value in a string, we can use indexing. For instance to extract the first letter of a name, we specify the index of the letter that we want to extract in writing it in square bracets (`[` and `]`). As in most other programming languages, indexes start at 0."
   ]
  },
  {
   "cell_type": "code",
   "execution_count": null,
   "metadata": {},
   "outputs": [],
   "source": [
    "'Henry'[0]"
   ]
  },
  {
   "cell_type": "markdown",
   "metadata": {},
   "source": [
    "This has returned the first letter of the name.\n",
    "\n",
    "Througout the tutorial there will be data structures that allow to use indexing and this can be very important during flow control and loops. You will learn about all the these concepts and practive their use in the following sections."
   ]
  },
  {
   "cell_type": "markdown",
   "metadata": {
    "collapsed": true
   },
   "source": [
    "## Variables\n",
    "\n",
    "In Python variables are declared without any keyword. This means that we can define variable without having to specify the type of data that they contain."
   ]
  },
  {
   "cell_type": "code",
   "execution_count": null,
   "metadata": {},
   "outputs": [],
   "source": [
    "business_name = 'SuperStore'"
   ]
  },
  {
   "cell_type": "markdown",
   "metadata": {},
   "source": [
    "### Exercise - Set variables\n",
    "\n",
    "Try to define variables on your own now. Add the two variables `price` and `operation_cost` below, and set them to reasonable values."
   ]
  },
  {
   "cell_type": "code",
   "execution_count": null,
   "metadata": {},
   "outputs": [],
   "source": [
    "number_of_clients = 113\n",
    "# declare variables for price and operational costs\n",
    "price = 10\n",
    "opr_cost = 2"
   ]
  },
  {
   "cell_type": "markdown",
   "metadata": {},
   "source": [
    "You will notice that no output is returned here. To access a variable, you just need to ask for it in typing it name. For instance to obtain the contents of `number_of_clients`, you will need to do this:"
   ]
  },
  {
   "cell_type": "code",
   "execution_count": 42,
   "metadata": {},
   "outputs": [
    {
     "data": {
      "text/plain": [
       "113"
      ]
     },
     "execution_count": 42,
     "metadata": {},
     "output_type": "execute_result"
    }
   ],
   "source": [
    "number_of_clients"
   ]
  },
  {
   "cell_type": "markdown",
   "metadata": {},
   "source": [
    "You have now set variables and they are available upon request."
   ]
  },
  {
   "cell_type": "markdown",
   "metadata": {},
   "source": [
    "### Exercise - Calculate profit\n",
    "\n",
    "Using these variables, can you calculate the profit? The profit is defined as the price times the number of clients minus the operation cost of the business. Use what you have learned about simple types, variables and operators to calculate the profit and return the result with short message."
   ]
  },
  {
   "cell_type": "code",
   "execution_count": 43,
   "metadata": {
    "cca": {
     "exercise": false
    }
   },
   "outputs": [
    {
     "name": "stdout",
     "output_type": "stream",
     "text": [
      "904\n"
     ]
    }
   ],
   "source": [
    "# use the variables defined above to calculate the profit\n",
    "# then store the result in a variable called profit\n",
    "# finally ask for the profit and print it with some text\n",
    "\n",
    "profit = number_of_clients * (price - opr_cost)\n",
    "print(profit)"
   ]
  },
  {
   "cell_type": "markdown",
   "metadata": {},
   "source": [
    "<div class=\"offblock\" kind=\"PRO TIP\">\n",
    "Use good names for your variables. Good names describe what the variable is holding. This is important for other programmers that work on the same project as you. And it is also important for yourself in a few weeks, reading this code again.\n",
    "</div>"
   ]
  },
  {
   "cell_type": "markdown",
   "metadata": {},
   "source": [
    "### Checking type?\n",
    "\n",
    "You sometimes need to know the type of the value that is stored in a varialbe. You can use the `type()` function to do this."
   ]
  },
  {
   "cell_type": "code",
   "execution_count": 44,
   "metadata": {},
   "outputs": [
    {
     "data": {
      "text/plain": [
       "int"
      ]
     },
     "execution_count": 44,
     "metadata": {},
     "output_type": "execute_result"
    }
   ],
   "source": [
    "type(profit)"
   ]
  },
  {
   "cell_type": "markdown",
   "metadata": {},
   "source": [
    "It is good practice to check for the type of the data in a variable and you will remain in control when complexity of your code base grows."
   ]
  },
  {
   "cell_type": "markdown",
   "metadata": {},
   "source": [
    "## None and empty strings\n",
    "\n",
    "It is sometimes useful for a variable to represent the absence of a value, or the null-value. In Python, this is represented by the constant `None`, which has the special type `NoneType`."
   ]
  },
  {
   "cell_type": "code",
   "execution_count": 45,
   "metadata": {},
   "outputs": [
    {
     "data": {
      "text/plain": [
       "NoneType"
      ]
     },
     "execution_count": 45,
     "metadata": {},
     "output_type": "execute_result"
    }
   ],
   "source": [
    "emptiness = None\n",
    "type(None)"
   ]
  },
  {
   "cell_type": "markdown",
   "metadata": {},
   "source": [
    "We can also define empty strings."
   ]
  },
  {
   "cell_type": "code",
   "execution_count": 46,
   "metadata": {},
   "outputs": [
    {
     "data": {
      "text/plain": [
       "str"
      ]
     },
     "execution_count": 46,
     "metadata": {},
     "output_type": "execute_result"
    }
   ],
   "source": [
    "nothing = ''\n",
    "type(nothing)"
   ]
  },
  {
   "cell_type": "markdown",
   "metadata": {},
   "source": [
    "## Comments\n",
    "\n",
    "Comments are text in a script that is not interpreted as code and therefore is not executed. This can be useful for at least two scenarios:\n",
    "\n",
    "- you can use them to document the code\n",
    "- you can *comment out* parts of the code tempoarily to test what the effect of the code is when debugging."
   ]
  },
  {
   "cell_type": "markdown",
   "metadata": {
    "collapsed": true
   },
   "source": [
    "Comments are better than no comments. However, no comments is better then lying comments. We should aim to write code that is easily readable and clear so that only need to resort to comments when absolutely required.\n"
   ]
  },
  {
   "cell_type": "markdown",
   "metadata": {},
   "source": [
    "### Single line comments\n",
    "\n",
    "Comments in Python start with the character `#` and extend to the end of the line."
   ]
  },
  {
   "cell_type": "code",
   "execution_count": 47,
   "metadata": {
    "cca": {
     "exercise": false
    }
   },
   "outputs": [],
   "source": [
    "# NOTE: seconds_in_a_year assumes a non-leap year.\n",
    "seconds_in_a_year = 60 * 60 * 24 * 365"
   ]
  },
  {
   "cell_type": "markdown",
   "metadata": {},
   "source": [
    "Note: Often it is best to use clear expressive names for your variables and the comments become superfluous. However, there are cases where comments are very useful. This is especially true when your code base grows and you need every tool at hand to keep down complexity in order to work efficiently."
   ]
  },
  {
   "cell_type": "markdown",
   "metadata": {},
   "source": [
    "# Function calls\n",
    "\n",
    "Functions package functionality in a reusable component. Function calls in Python follow the syntax of C, Java, Javascript and many other programming languages. The function name is followed by brackets that surround the paramters.\n",
    "\n",
    "For exampe we can use the `print()` function to print values."
   ]
  },
  {
   "cell_type": "code",
   "execution_count": 48,
   "metadata": {
    "cca": {
     "exercise": false
    }
   },
   "outputs": [
    {
     "name": "stdout",
     "output_type": "stream",
     "text": [
      "profit for the year is £904\n"
     ]
    }
   ],
   "source": [
    "report = 'profit for the year is £' + str(profit)\n",
    "print(report)"
   ]
  },
  {
   "cell_type": "markdown",
   "metadata": {},
   "source": [
    "Notice that two functions are used in the example above: `print` and `str`."
   ]
  },
  {
   "cell_type": "markdown",
   "metadata": {},
   "source": [
    "\n",
    "You might have noticed that in the Jupyter notebook, whenever you execute a cell, it will print the output without you using the `print` statement. However,\n",
    "\n",
    "- This is specific to working in Jupyter and is for your convenience. In a script you will need to explicity ask python to print for you.\n",
    "- Without the `print` function, special characters are not shown correctly.\n"
   ]
  },
  {
   "cell_type": "markdown",
   "metadata": {},
   "source": [
    "## Finding help\n",
    "\n",
    "https://www.python.org/doc/\n",
    "\n",
    "Be sure to select the correct Python version when you look up documentation online."
   ]
  },
  {
   "cell_type": "markdown",
   "metadata": {},
   "source": [
    "## Functions vs methods\n",
    "\n",
    "The difference between a function and a method it that a function can be called on any compatible input, whereas a method is attached to a specific object. Without getting too much into what objects are, Python is an object-oriented programming language which helps you to structure you code into objects or classes that group together related pieces of functionality. We will not write our own classes in this tutorial, it is just worth having an idea of the concept.\n",
    "\n",
    "Methods are like functions which only make sense in the context of a specific object. For instance a `string` as defined above is an object. It would make sense to have a method that can convert lower case letters to upper case letters. Such a function would not make sense for integers. In python we have the `'string'.upper()` method attached to `string`s. You see that we call these functions in a different way than the functions above. Here we use the *dot notation*."
   ]
  },
  {
   "cell_type": "code",
   "execution_count": 49,
   "metadata": {},
   "outputs": [
    {
     "data": {
      "text/plain": [
       "'LEN'"
      ]
     },
     "execution_count": 49,
     "metadata": {},
     "output_type": "execute_result"
    }
   ],
   "source": [
    "name = 'Henry Ford'\n",
    "name.upper()\n",
    "'Len'.upper()"
   ]
  },
  {
   "cell_type": "markdown",
   "metadata": {},
   "source": [
    "Again there are methods which can take parameters. For instance the `.format()` method. It is used to build strings that can combine a number of variables. This make it less clunky to concatenate `string`s. Again it is a method attached to `string`s. We simply pass the value we want to embed in a `string` as an argument to the method."
   ]
  },
  {
   "cell_type": "code",
   "execution_count": 50,
   "metadata": {},
   "outputs": [
    {
     "name": "stdout",
     "output_type": "stream",
     "text": [
      "The profit of SuperStore this year is £100\n"
     ]
    }
   ],
   "source": [
    "profit = 100\n",
    "report = 'The profit of {} this year is £{}'.format(business_name, profit)\n",
    "print(report)"
   ]
  },
  {
   "cell_type": "markdown",
   "metadata": {},
   "source": [
    "Later in the tutorial we will go through string formatting in more detail, and you will learn to define your own functions."
   ]
  },
  {
   "cell_type": "markdown",
   "metadata": {},
   "source": [
    "# Flow control I - Conditionals\n",
    "\n",
    "The most simple conditional is the branching `if` statement. In python, it starts with the keyword `if`, followed by a conditional and a colon. The branch is indented.\n",
    "\n",
    "You can have one, two, or more branches."
   ]
  },
  {
   "cell_type": "markdown",
   "metadata": {},
   "source": [
    "## Conditionals"
   ]
  },
  {
   "cell_type": "code",
   "execution_count": 51,
   "metadata": {},
   "outputs": [],
   "source": [
    "PERSONAL_TAX_BAND = 11850\n",
    "BASIC_RATE = 46350\n",
    "HIGHER_RATE = 150000\n",
    "salary = 25000"
   ]
  },
  {
   "cell_type": "code",
   "execution_count": 52,
   "metadata": {
    "cca": {
     "exercise": false
    }
   },
   "outputs": [
    {
     "name": "stdout",
     "output_type": "stream",
     "text": [
      "You have to pay tax\n"
     ]
    }
   ],
   "source": [
    "if salary > PERSONAL_TAX_BAND:\n",
    "    print('You have to pay tax')"
   ]
  },
  {
   "cell_type": "code",
   "execution_count": 53,
   "metadata": {},
   "outputs": [
    {
     "name": "stdout",
     "output_type": "stream",
     "text": [
      "You have to pay 20% tax\n"
     ]
    }
   ],
   "source": [
    "if salary <= PERSONAL_TAX_BAND:\n",
    "    print(\"You don't have to pay tax\")\n",
    "elif salary < BASIC_RATE:\n",
    "    print(\"You have to pay 20% tax\")\n",
    "elif salary < HIGHER_RATE:\n",
    "    print(\"You have to pay 40% tax\")\n",
    "else:\n",
    "    print('You have to pay 45% tax')"
   ]
  },
  {
   "cell_type": "markdown",
   "metadata": {},
   "source": [
    "Notice the three keywords: `if`, `elif`, and `else` which introduce the initial, intermediate and final branches. In a conditional, you must use one `if`, you can use as many `elif` as you want, you can use one `else`."
   ]
  },
  {
   "cell_type": "markdown",
   "metadata": {},
   "source": [
    "An important feature of Python shown here is the significance of indentation in Python. Indentation changes the meaning of programs. Try the two programs below and see the difference."
   ]
  },
  {
   "cell_type": "code",
   "execution_count": 54,
   "metadata": {},
   "outputs": [],
   "source": [
    "salary = 10000\n",
    "if salary > PERSONAL_TAX_BAND:\n",
    "    print(\"You have to pay tax\")\n",
    "    print(\"The tax deadline is 31st January\")"
   ]
  },
  {
   "cell_type": "code",
   "execution_count": 55,
   "metadata": {},
   "outputs": [
    {
     "name": "stdout",
     "output_type": "stream",
     "text": [
      "The tax deadline is 31st January\n"
     ]
    }
   ],
   "source": [
    "if salary > PERSONAL_TAX_BAND:\n",
    "    print('You have to pay tax')\n",
    "print(\"The tax deadline is 31st January\")"
   ]
  },
  {
   "cell_type": "markdown",
   "metadata": {},
   "source": [
    "## True and False values\n",
    "\n",
    "In Python, all values count as either true or false, even values which are not booleans. This means you can use any value as a conditional.\n",
    "\n",
    "In general, `0` is false but all other numbers are true, and empty collections (e.g `[]`, `''`, `()` or `{}`) are false but all other collections are true. `None` is also treated as false."
   ]
  },
  {
   "cell_type": "code",
   "execution_count": 56,
   "metadata": {},
   "outputs": [
    {
     "name": "stdout",
     "output_type": "stream",
     "text": [
      "Hello Anonymous\n"
     ]
    }
   ],
   "source": [
    "name = ''\n",
    "if not name:\n",
    "    name = \"Anonymous\"\n",
    "print(\"Hello \" + name)"
   ]
  },
  {
   "cell_type": "markdown",
   "metadata": {},
   "source": [
    "## Compound conditionals\n",
    "\n",
    "As other programming languages, Python offers operators to combine conditionals. Unlike most other programming languages, these opeartors are in plain English: `and` and `or`."
   ]
  },
  {
   "cell_type": "code",
   "execution_count": 57,
   "metadata": {},
   "outputs": [
    {
     "name": "stdout",
     "output_type": "stream",
     "text": [
      "Welcome Adam\n"
     ]
    }
   ],
   "source": [
    "number_of_visits = 0\n",
    "client_name = 'Adam'\n",
    "if number_of_visits and client_name:\n",
    "    print('Welcome back {}'.format(client_name))\n",
    "elif client_name:\n",
    "    print('Welcome {}'.format(client_name))\n",
    "else:\n",
    "    print('Welcome')"
   ]
  },
  {
   "cell_type": "markdown",
   "metadata": {},
   "source": [
    "# Flow Control II - Loops\n",
    "\n",
    "Progamming is designed to make your life easier in delegating work to the computer. But there are ways to program that make your life harder. One major symptom of bad code is having repetition. For instance imagine you are a greengrocer and you have a bunch of signs that avertise your fruit."
   ]
  },
  {
   "cell_type": "markdown",
   "metadata": {},
   "source": [
    "Now image the fruit is nearing its expiry date and you want to clear your stock. In order to incentivise your customers, you might offer a discount. For this you need to update your signs to indicate that all the fruit is 10% off! You could simply do the following:"
   ]
  },
  {
   "cell_type": "code",
   "execution_count": 58,
   "metadata": {},
   "outputs": [
    {
     "data": {
      "text/plain": [
       "['tangerine now 10% off',\n",
       " 'lemon now 10% off',\n",
       " 'watermelon now 10% off',\n",
       " 'strawberry now 10% off',\n",
       " 'peach now 10% off']"
      ]
     },
     "execution_count": 58,
     "metadata": {},
     "output_type": "execute_result"
    }
   ],
   "source": [
    "fruit_stock = ['tangerine', 'lemon', 'watermelon', 'strawberry', 'peach']\n",
    "\n",
    "discounted_fruits = []\n",
    "discounted_fruits.append(fruit_stock[0] + ' now 10% off')\n",
    "discounted_fruits.append(fruit_stock[1] + ' now 10% off')\n",
    "discounted_fruits.append(fruit_stock[2] + ' now 10% off')\n",
    "discounted_fruits.append(fruit_stock[3] + ' now 10% off')\n",
    "discounted_fruits.append(fruit_stock[4] + ' now 10% off')\n",
    "\n",
    "discounted_fruits"
   ]
  },
  {
   "cell_type": "markdown",
   "metadata": {},
   "source": [
    "This is quite a bit or repetition of the same code. \n",
    "Imagine now that you would want to change the amount of discount that you wanted to give. \n",
    "You would have to change 5 instances thereof, which is just extra work and you might forget one and lose money! \n",
    "Imagine also the vegetable section would have to be changed - a lot of extra work for you!"
   ]
  },
  {
   "cell_type": "markdown",
   "metadata": {},
   "source": [
    "## For loops\n",
    "\n",
    "Instead it would be more elegant to use a loop. Loop repeat an operation a number of times. For instance for the case of discounting fruit we could to the following:"
   ]
  },
  {
   "cell_type": "code",
   "execution_count": 59,
   "metadata": {},
   "outputs": [
    {
     "data": {
      "text/plain": [
       "['tangerine now 10% off',\n",
       " 'lemon now 10% off',\n",
       " 'watermelon now 10% off',\n",
       " 'strawberry now 10% off',\n",
       " 'peach now 10% off']"
      ]
     },
     "execution_count": 59,
     "metadata": {},
     "output_type": "execute_result"
    }
   ],
   "source": [
    "discounted_fruits = []\n",
    "for fruit in fruit_stock:\n",
    "    discounted_fruits.append(fruit + ' now 10% off')\n",
    "\n",
    "discounted_fruits"
   ]
  },
  {
   "cell_type": "markdown",
   "metadata": {},
   "source": [
    "### range\n",
    "\n",
    "Notice that, in Python, you loop directly over the element of a list (or other data structures). This is different from looping over indices as is common in most other programming languages.\n",
    "\n",
    "Occasionally, you need to loop over a range of numbers (as you do in C, Java, Javascript, etc.). In this case, Python provides the function `range` which allows you to create a data structure that contains that range of integer indexes. You can then loop over that range directly."
   ]
  },
  {
   "cell_type": "code",
   "execution_count": 74,
   "metadata": {},
   "outputs": [
    {
     "name": "stdout",
     "output_type": "stream",
     "text": [
      "0 2\n",
      "1 5\n",
      "2 2\n",
      "3 6\n"
     ]
    }
   ],
   "source": [
    "measures = [ 2, 5, 3, 2, 2, 2, 5, 6, 7, 2, 3, 1, 2, 5, 6 ]\n",
    "# subsampling with exponential backoff\n",
    "for exponent in range(4):\n",
    "    index = 2 ** exponent - 1\n",
    "    print(str(exponent) + ' ' + str(measures[index]))"
   ]
  },
  {
   "cell_type": "markdown",
   "metadata": {},
   "source": [
    "You can use optional additional arguments to control the range of integers better:\n",
    "\n",
    "- `range(end)` counts from `0` to `end - 1`.\n",
    "- `range(start, end)` counts from `start` to `end - 1`\n",
    "- `range(start, end, step)` counts from `start` up to `end - 1` jumping `step` integers at a time."
   ]
  },
  {
   "cell_type": "markdown",
   "metadata": {},
   "source": [
    "### enumerate\n",
    "\n",
    "The function enumerate creates a list of tuples: the first element is the index, the second is the value of the data structure at that index. (Note this will work on unordered data structures e.g. sets and dictionaries, but the order will be random)."
   ]
  },
  {
   "cell_type": "code",
   "execution_count": 61,
   "metadata": {},
   "outputs": [
    {
     "name": "stdout",
     "output_type": "stream",
     "text": [
      "fruit 0 is a tangerine\n",
      "fruit 1 is a lemon\n",
      "fruit 2 is a watermelon\n",
      "fruit 3 is a strawberry\n",
      "fruit 4 is a peach\n"
     ]
    }
   ],
   "source": [
    "for index, fruit in enumerate(fruit_stock):\n",
    "    print('fruit {} is a {}'.format(index, fruit))"
   ]
  },
  {
   "cell_type": "markdown",
   "metadata": {},
   "source": [
    "### items()\n",
    "\n",
    "`.items()` is a method of every dictionary, which gives access to the individual `key`s and associated `value`s of a dictionary. Similarly to `enumerate()`, you need to unpack the `key` and `value` into separate variables, which are then accessible inside the loop."
   ]
  },
  {
   "cell_type": "code",
   "execution_count": 62,
   "metadata": {},
   "outputs": [
    {
     "name": "stdout",
     "output_type": "stream",
     "text": [
      "the variant is Pink Lady\n",
      "the discount is 10\n",
      "the stock is 13\n"
     ]
    }
   ],
   "source": [
    "apple = dict(\n",
    "    variant='Pink Lady',\n",
    "    discount=10,\n",
    "    stock=13\n",
    ")\n",
    "\n",
    "for key, value in apple.items():\n",
    "    print('the {} is {}'.format(key, value))"
   ]
  },
  {
   "cell_type": "markdown",
   "metadata": {},
   "source": [
    "Notice how the order of the keys in the dictionary are not returned in the same order as when we defined it! This comes down to the property of dictionaries that they are not ordered."
   ]
  },
  {
   "cell_type": "markdown",
   "metadata": {},
   "source": [
    "The commonality between all the loops described above is that the objects that are looped over are iterators. They have this special property, and there are more examples. `String`s are also iterators. `string`s are in this case very similar to `list`s where every element of the list is a character. For example, to print one letter of a word at a time you can do the following.\n",
    "\n",
    "```python\n",
    "word = 'price'\n",
    "for letter in word:\n",
    "    print(letter)\n",
    "```\n",
    "\n",
    "```\n",
    "p\n",
    "r\n",
    "i\n",
    "c\n",
    "e\n",
    "```"
   ]
  },
  {
   "cell_type": "markdown",
   "metadata": {},
   "source": [
    "## `while` loops\n",
    "\n",
    "As opposed to `for` loops, we generally use `while` when the number of iterations in not know beforehand. Rather we could make a decision on when the loop should finish based on a condition.\n",
    "\n",
    "You have learned conditionals before. The only difference from the `for` loop is that we define this type of loop with the `while` keyword."
   ]
  },
  {
   "cell_type": "code",
   "execution_count": 63,
   "metadata": {
    "cca": {
     "exercise": false
    }
   },
   "outputs": [
    {
     "name": "stdout",
     "output_type": "stream",
     "text": [
      "3\n",
      "2\n",
      "1\n"
     ]
    }
   ],
   "source": [
    "seconds_left = 3\n",
    "while seconds_left >= 1:\n",
    "    print(seconds_left)\n",
    "    seconds_left = seconds_left - 1"
   ]
  },
  {
   "cell_type": "markdown",
   "metadata": {},
   "source": [
    "Be careful to get the condition right here or you might end up with an *infinite loop*."
   ]
  },
  {
   "cell_type": "markdown",
   "metadata": {},
   "source": [
    "In Python, `i -= 1` is a more compact verion of `i = i - 1`. The same works for `+`, `*`, `/`."
   ]
  },
  {
   "cell_type": "markdown",
   "metadata": {},
   "source": [
    "## List comprehensions\n",
    "\n",
    "List comprehensions are a concise way of building new list by processing other lists. They lead to cleaner and more readable code."
   ]
  },
  {
   "cell_type": "markdown",
   "metadata": {},
   "source": [
    "#### Exercise - The length of fruit\n",
    "\n",
    "We have learned how to loop over a list."
   ]
  },
  {
   "cell_type": "code",
   "execution_count": 66,
   "metadata": {
    "cca": {
     "exercise": false
    }
   },
   "outputs": [
    {
     "data": {
      "text/plain": [
       "[9, 5, 10, 10, 5]"
      ]
     },
     "execution_count": 66,
     "metadata": {},
     "output_type": "execute_result"
    }
   ],
   "source": [
    "fruit_nchar = []\n",
    "\n",
    "for fruit in fruit_stock:\n",
    "    fruit_nchar.append(len(fruit))\n",
    "    \n",
    "fruit_nchar"
   ]
  },
  {
   "cell_type": "code",
   "execution_count": 68,
   "metadata": {
    "cca": {
     "exercise": false
    }
   },
   "outputs": [
    {
     "data": {
      "text/plain": [
       "[9, 5, 10, 10, 5]"
      ]
     },
     "execution_count": 68,
     "metadata": {},
     "output_type": "execute_result"
    }
   ],
   "source": [
    "fruit_name_lengths = [len(fruit) for fruit in fruit_stock]\n",
    "# Assuming each character takes 7 centimeters to write on a big sign\n",
    "# compute the size of the largest sign you need (hint: the max function exists)\n",
    "\n",
    "fruit_name_lengths"
   ]
  },
  {
   "cell_type": "markdown",
   "metadata": {},
   "source": [
    "The list comprehension yields the same result but it is much shorter to write in code and reads just like English. People like python so much because it gets a lot done with simple and easily readable syntax."
   ]
  }
 ],
 "metadata": {
  "kernelspec": {
   "display_name": "Python 3",
   "language": "python",
   "name": "python3"
  },
  "language_info": {
   "codemirror_mode": {
    "name": "ipython",
    "version": 3
   },
   "file_extension": ".py",
   "mimetype": "text/x-python",
   "name": "python",
   "nbconvert_exporter": "python",
   "pygments_lexer": "ipython3",
   "version": "3.7.3"
  }
 },
 "nbformat": 4,
 "nbformat_minor": 1
}

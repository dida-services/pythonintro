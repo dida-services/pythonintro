{
 "cells": [
  {
   "cell_type": "markdown",
   "metadata": {},
   "source": [
    "# Input output (io)\n",
    "\n",
    "Now we are equipped with all the tools to work with data. \n",
    "We can store it in variables, make calculations and perform logical operations. \n",
    "There is just one thing missing... the data! \n",
    "Rather than manually inputting into a cell in the notebook, we will need to collect the data from an external source. \n",
    "\n",
    "There are many data sources out there, we could connect to an API to request some data, connect to a large database or we could simply load data from a local data file. \n",
    "All these data sources, no matter their origin will be stored in python data structures, i.e. lists, dictionaries, tuples etc.\n",
    "\n",
    "## reading files\n",
    "\n",
    "You will first open a local file. \n",
    "Opening file with python is very straightfoward. \n",
    "You will use the `open()` function to get the data into the python session. \n",
    "The `open()` function takes the file path of where the file is saved as well as the `access_mode` in which we want to read the file. \n",
    "In this case we use `r` for the mode as we want to read the data. \n",
    "Look up the python documentation for the other `access_modes`.\n",
    "\n",
    "It is a good practice to use the `with` statement when opening files as this automatically closes the file once the contents have been read. \n",
    "Otherwise you would have to remember this and do it manually. \n",
    "The `with` statement is used with the complementing statement `as`. \n",
    "This gives stores the opened file container as a variable. \n",
    "In this case we use the letter `f`. \n",
    "Now we enter an indented block of code where we perform the operation on the opened file. \n",
    "In this case we use the `.read()` method."
   ]
  },
  {
   "cell_type": "code",
   "execution_count": null,
   "metadata": {},
   "outputs": [],
   "source": [
    "with open('data/poem.txt', 'r') as f:\n",
    "    read_data = f.read()"
   ]
  },
  {
   "cell_type": "markdown",
   "metadata": {},
   "source": [
    "Now we can access the text that was stored in the `read_data` variable."
   ]
  },
  {
   "cell_type": "code",
   "execution_count": null,
   "metadata": {},
   "outputs": [],
   "source": [
    "read_data"
   ]
  },
  {
   "cell_type": "markdown",
   "metadata": {},
   "source": [
    "You will notice that we have a list with a single element. The data was read as a chunk of text where the `\\n` character are not interpreted as newlines. Let's use the `.readlines()` method instead."
   ]
  },
  {
   "cell_type": "code",
   "execution_count": null,
   "metadata": {},
   "outputs": [],
   "source": [
    "with open('data/poem.txt', 'r') as f:\n",
    "    read_data = f.readlines()\n",
    "read_data"
   ]
  },
  {
   "cell_type": "markdown",
   "metadata": {},
   "source": [
    "This time you have split the input into list elements per line in the file. You could now perform an iteration on this list. For example, you could count the number of occurrences of the word `and`."
   ]
  },
  {
   "cell_type": "code",
   "execution_count": null,
   "metadata": {},
   "outputs": [],
   "source": [
    "count_of_and = 0\n",
    "for line in read_data:\n",
    "    if 'and' in line:\n",
    "        count_of_and += 1\n",
    "\n",
    "count_of_and"
   ]
  },
  {
   "cell_type": "markdown",
   "metadata": {},
   "source": [
    "There are 11 `and`s in the file. Notice however that there is a drawback in this code in that it will only count whether and is in the line, not the number of occurences!"
   ]
  },
  {
   "cell_type": "markdown",
   "metadata": {},
   "source": [
    "## writing files\n",
    "\n",
    "Let us now write the contents of the file. Similarly to before, we first need to `open()` a file. This time however, we open it in the `w` `access_mode` for write. Again we use `with` to `open()` the file `as` `f`. Now in the indented block of code, we can use the `.write()` method on the file object `f` to write the data into a file.\n",
    "\n",
    "We could just want to write the lines that are starting with an `F`."
   ]
  },
  {
   "cell_type": "code",
   "execution_count": null,
   "metadata": {},
   "outputs": [],
   "source": [
    "with open('data/short_poem.txt', 'w') as f:\n",
    "    for line in read_data:\n",
    "        if line[0] == 'F':\n",
    "            f.write(line)"
   ]
  },
  {
   "cell_type": "markdown",
   "metadata": {},
   "source": [
    "Now go and check the your folder and see whether you wrote the correct output to the file."
   ]
  },
  {
   "cell_type": "markdown",
   "metadata": {},
   "source": [
    "## CSV\n",
    "\n",
    "Files can contain text, but also data. For example, you can export a spreadsheet to a CSV file. In this case, each row is presented as a line in the file, with each column separated by a comma (CSV stands for Comma Separated Values).\n",
    "\n",
    "You can load CSV files into your Python program. To do that, you first need to import a module from the standard library. You will learn more about importing later."
   ]
  },
  {
   "cell_type": "code",
   "execution_count": null,
   "metadata": {},
   "outputs": [],
   "source": [
    "from csv import reader"
   ]
  },
  {
   "cell_type": "markdown",
   "metadata": {},
   "source": [
    "With the reader imported, you can load the data simply:"
   ]
  },
  {
   "cell_type": "code",
   "execution_count": null,
   "metadata": {},
   "outputs": [],
   "source": [
    "with open('data/tips.csv', 'r') as input_file:\n",
    "    tips_reader = reader(input_file)\n",
    "    meals = list(tips_reader)\n",
    "meals[:5]"
   ]
  },
  {
   "cell_type": "markdown",
   "metadata": {},
   "source": [
    "This method for loading the data gives raw results: a list of lists. The first line contains the labels (the column headers of the spreadsheet). Ideally, you would like to use to labels when loading the data.\n",
    "\n",
    "The reader `DictReader` provides that functionality:"
   ]
  },
  {
   "cell_type": "code",
   "execution_count": null,
   "metadata": {},
   "outputs": [],
   "source": [
    "from csv import DictReader\n",
    "with open('data/tips.csv', 'r') as input_file:\n",
    "    tips_reader = DictReader(input_file)\n",
    "    meals = list(tips_reader)\n",
    "meals[:3]"
   ]
  },
  {
   "cell_type": "markdown",
   "metadata": {},
   "source": [
    "Note that the results are returned as a list of `OrderedDicts`. This is a special type of dictionary, which can be imported from `collections` where the order is conserved."
   ]
  }
 ],
 "metadata": {
  "kernelspec": {
   "display_name": "Python 3",
   "language": "python",
   "name": "python3"
  },
  "language_info": {
   "codemirror_mode": {
    "name": "ipython",
    "version": 3
   },
   "file_extension": ".py",
   "mimetype": "text/x-python",
   "name": "python",
   "nbconvert_exporter": "python",
   "pygments_lexer": "ipython3",
   "version": "3.7.0"
  }
 },
 "nbformat": 4,
 "nbformat_minor": 2
}

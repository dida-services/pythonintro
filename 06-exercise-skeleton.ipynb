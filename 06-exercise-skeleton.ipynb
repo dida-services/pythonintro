{
 "cells": [
  {
   "cell_type": "markdown",
   "metadata": {},
   "source": [
    "# Exercise I\n",
    "\n",
    "In this exercise it is time for you to show that you can use your new found python skills to learn something about a dataset. "
   ]
  },
  {
   "cell_type": "markdown",
   "metadata": {},
   "source": [
    "One waiter recorded information about each tip he received over a period of a few months working in one restaurant. He collected several variables:\n",
    "\n",
    "- tip in dollars\n",
    "- bill in dollars\n",
    "- gender of the bill payer\n",
    "- whether there were smokers in the party\n",
    "- day of the week\n",
    "- time of day\n",
    "- size of the party"
   ]
  },
  {
   "cell_type": "markdown",
   "metadata": {},
   "source": [
    "<div class=\"offblock\" kind=\"Reference\">\n",
    "The data was reported in a collection of case studies for business statistics (Bryant & Smith 1995).\n",
    "Bryant, P. G. and Smith, M (1995) Practical Data Analysis: Case Studies in Business Statistics. Homewood, IL: Richard D. Irwin Publishing:\n",
    "</div>"
   ]
  },
  {
   "cell_type": "markdown",
   "metadata": {},
   "source": [
    "### Load the data\n",
    "\n",
    "We start by loading the data into our python session. Again we start by importing some additional functionality into python by importing `DictReader`"
   ]
  },
  {
   "cell_type": "code",
   "execution_count": null,
   "metadata": {
    "cca": {
     "exercise": false
    },
    "scrolled": true
   },
   "outputs": [],
   "source": [
    "from csv import DictReader"
   ]
  },
  {
   "cell_type": "markdown",
   "metadata": {},
   "source": [
    "We can now import the data."
   ]
  },
  {
   "cell_type": "code",
   "execution_count": null,
   "metadata": {
    "cca": {
     "exercise": false
    }
   },
   "outputs": [],
   "source": [
    "with open('data/tips.csv', 'r') as input_file:\n",
    "    reader = DictReader(input_file)\n",
    "    meals=list(reader)"
   ]
  },
  {
   "cell_type": "markdown",
   "metadata": {},
   "source": [
    "`reader` is a special iterable object. We therefore extract the contents into a list using the `list` function."
   ]
  },
  {
   "cell_type": "code",
   "execution_count": null,
   "metadata": {},
   "outputs": [],
   "source": [
    "meals[:3]"
   ]
  },
  {
   "cell_type": "code",
   "execution_count": null,
   "metadata": {},
   "outputs": [],
   "source": [
    "# try using type to get an understanding of how the data is stored\n"
   ]
  },
  {
   "cell_type": "markdown",
   "metadata": {},
   "source": [
    "It would be much more useful for the tips and total bills to be stored as floats. Let's try and convert them!"
   ]
  },
  {
   "cell_type": "code",
   "execution_count": null,
   "metadata": {
    "cca": {
     "exercise": false
    },
    "scrolled": true
   },
   "outputs": [],
   "source": [
    "# convert the 'tip' and 'total_bill' to float\n"
   ]
  },
  {
   "cell_type": "markdown",
   "metadata": {},
   "source": [
    "Now try to compute the average tip."
   ]
  },
  {
   "cell_type": "code",
   "execution_count": null,
   "metadata": {
    "cca": {
     "exercise": false
    }
   },
   "outputs": [],
   "source": [
    "# compute the average tip\n"
   ]
  },
  {
   "cell_type": "markdown",
   "metadata": {},
   "source": [
    "You might also want to investigate how many of each type of meal there is. We can import `Counter` from `collections`, which counts the frequency of all unique values in a list."
   ]
  },
  {
   "cell_type": "code",
   "execution_count": null,
   "metadata": {
    "cca": {
     "exercise": false
    }
   },
   "outputs": [],
   "source": [
    "from collections import Counter\n",
    "\n",
    "Counter([meal['time'] for meal in meals])"
   ]
  },
  {
   "cell_type": "markdown",
   "metadata": {},
   "source": [
    "We can also provide the `Counter` with a list of tuples."
   ]
  },
  {
   "cell_type": "code",
   "execution_count": null,
   "metadata": {},
   "outputs": [],
   "source": [
    "Counter([(meal['time'], meal['gender']) for meal in meals])"
   ]
  },
  {
   "cell_type": "markdown",
   "metadata": {},
   "source": [
    "Finally, we can use list comprehensions to investigate the average tips for different types of meal. Notice how we are reusing our `mean` function we defined earlier!"
   ]
  },
  {
   "cell_type": "code",
   "execution_count": null,
   "metadata": {
    "cca": {
     "exercise": false
    }
   },
   "outputs": [],
   "source": [
    "mean([meal['tip'] for meal in meals if meal['gender'] == 'Male'])"
   ]
  },
  {
   "cell_type": "code",
   "execution_count": null,
   "metadata": {
    "cca": {
     "exercise": false
    }
   },
   "outputs": [],
   "source": [
    "mean([meal['tip'] for meal in meals if meal['gender'] == 'Female'])"
   ]
  },
  {
   "cell_type": "markdown",
   "metadata": {},
   "source": [
    "### Exercise\n",
    "\n",
    "Try to compute the following statistics:\n",
    "\n",
    "- average tip for small bills and big bills (you need to decide how to classify small and big bills!),\n",
    "- average tip for days of the week and days of the week-end,\n",
    "- average tip for lunch and for dinner."
   ]
  },
  {
   "cell_type": "code",
   "execution_count": null,
   "metadata": {},
   "outputs": [],
   "source": [
    "# add as many cells as you need here!"
   ]
  },
  {
   "cell_type": "markdown",
   "metadata": {},
   "source": [
    "## Data analysis\n",
    "\n",
    "You have now started to perform basic data analysis - but as you can see the way the data has been stored (as a list of dictionaries) has made it hard to study the aggregate data.\n",
    "\n",
    "Fortunately, there is a better way! `pandas` is a library which allows full data frames (similar to a csv file or database table) to be imported, stored and manipulated.\n",
    "\n",
    "That said, doing the analysis without `pandas` is still a very good learning exercise!"
   ]
  }
 ],
 "metadata": {
  "kernelspec": {
   "display_name": "Python 3",
   "language": "python",
   "name": "python3"
  },
  "language_info": {
   "codemirror_mode": {
    "name": "ipython",
    "version": 3
   },
   "file_extension": ".py",
   "mimetype": "text/x-python",
   "name": "python",
   "nbconvert_exporter": "python",
   "pygments_lexer": "ipython3",
   "version": "3.7.0"
  }
 },
 "nbformat": 4,
 "nbformat_minor": 1
}
